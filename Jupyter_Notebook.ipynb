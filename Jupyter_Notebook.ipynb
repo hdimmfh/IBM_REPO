{
 "cells": [
  {
   "cell_type": "markdown",
   "metadata": {},
   "source": [
    "<center>\n",
    "    <img src=\"https://cf-courses-data.s3.us.cloud-object-storage.appdomain.cloud/IBMDeveloperSkillsNetwork-DS0105EN-SkillsNetwork/labs/Module2/images/SN_web_lightmode.png\" width=\"300\" alt=\"cognitiveclass.ai logo\">\n",
    "</center>\n"
   ]
  },
  {
   "cell_type": "markdown",
   "metadata": {
    "jp-MarkdownHeadingCollapsed": true,
    "tags": []
   },
   "source": [
    "#### Add your code below following the instructions given in the course\n"
   ]
  },
  {
   "cell_type": "markdown",
   "metadata": {},
   "source": [
    "Jupyter_Notebookipynb"
   ]
  },
  {
   "cell_type": "markdown",
   "metadata": {},
   "source": [
    "<H1> Data Science Tools and Ecosystem </H1>"
   ]
  },
  {
   "cell_type": "markdown",
   "metadata": {},
   "source": [
    "In this notebook, Data Science Tools and Ecosystem are summarized."
   ]
  },
  {
   "cell_type": "markdown",
   "metadata": {},
   "source": [
    "Some of the popular languages that Data Scientists use are:\n",
    "<ul>\n",
    "<li>python</li>\n",
    "<li>r</li>\n",
    "<li>scala</li>\n",
    "</ul>"
   ]
  },
  {
   "cell_type": "markdown",
   "metadata": {},
   "source": [
    "Some of the commonly used libraries used by Data Scientists include:\n",
    "<ul>\n",
    "<li>python</li>\n",
    "<li>r</li>\n",
    "<li>scala</li>\n",
    "</ul>"
   ]
  },
  {
   "cell_type": "markdown",
   "metadata": {},
   "source": [
    "Some of the commonly used libraries used by Data Scientists include:\n",
    "\n",
    "1. NumPy\n",
    "2. Pandas\n",
    "3. Matplotlib\n",
    "4. Scikit-learn"
   ]
  },
  {
   "cell_type": "markdown",
   "metadata": {},
   "source": [
    "<H3>Below are a few examples of evaluating arithmetic expressions in Python.</H3>Some of the commonly used libraries used by Data Scientists include:\n",
    "\n",
    "1. NumPy\n",
    "2. Pandas\n",
    "3. Matplotlib\n",
    "4. Scikit-learn\n"
   ]
  },
  {
   "cell_type": "code",
   "execution_count": 1,
   "metadata": {},
   "outputs": [
    {
     "name": "stdout",
     "output_type": "stream",
     "text": [
      "17\n"
     ]
    }
   ],
   "source": [
    "# This a simple arithmetic expression to mutiply then add integers.\n",
    "print((3*4)+5)"
   ]
  },
  {
   "cell_type": "markdown",
   "metadata": {},
   "source": [
    "print(f\"{200//60}H {200%60}M\")"
   ]
  },
  {
   "cell_type": "markdown",
   "metadata": {},
   "source": [
    "In this notebook, Data Science Tools and Ecosystem are summarized.\n",
    "### Objectives:\n",
    "\n",
    "- List popular languages for Data Science.\n",
    "- Introduce common data science libraries.\n",
    "- Provide practice exercises for Markdown cells.\n"
   ]
  },
  {
   "cell_type": "markdown",
   "metadata": {},
   "source": [
    "## H2 style heading\n",
    "\n",
    "name\n",
    "Myeongsu Koo\n",
    "\n",
    "Author."
   ]
  },
  {
   "cell_type": "code",
   "execution_count": 6,
   "metadata": {},
   "outputs": [
    {
     "name": "stdout",
     "output_type": "stream",
     "text": [
      "\u001b[33m힌트: Using 'master' as the name for the initial branch. This default branch name\u001b[m\n",
      "\u001b[33m힌트: is subject to change. To configure the initial branch name to use in all\u001b[m\n",
      "\u001b[33m힌트: of your new repositories, which will suppress this warning, call:\u001b[m\n",
      "\u001b[33m힌트: \u001b[m\n",
      "\u001b[33m힌트: \tgit config --global init.defaultBranch <name>\u001b[m\n",
      "\u001b[33m힌트: \u001b[m\n",
      "\u001b[33m힌트: Names commonly chosen instead of 'master' are 'main', 'trunk' and\u001b[m\n",
      "\u001b[33m힌트: 'development'. The just-created branch can be renamed via this command:\u001b[m\n",
      "\u001b[33m힌트: \u001b[m\n",
      "\u001b[33m힌트: \tgit branch -m <name>\u001b[m\n",
      "/Users/hdimmfh/coding/python/.git/ 안의 빈 깃 저장소를 다시 초기화했습니다\n"
     ]
    }
   ],
   "source": [
    "! git init"
   ]
  },
  {
   "cell_type": "code",
   "execution_count": 7,
   "metadata": {},
   "outputs": [
    {
     "name": "stdout",
     "output_type": "stream",
     "text": [
      "warning: 내장 깃 저장소 추가: kiinchat\n",
      "\u001b[33m힌트: You've added another git repository inside your current repository.\u001b[m\n",
      "\u001b[33m힌트: Clones of the outer repository will not contain the contents of\u001b[m\n",
      "\u001b[33m힌트: the embedded repository and will not know how to obtain it.\u001b[m\n",
      "\u001b[33m힌트: If you meant to add a submodule, use:\u001b[m\n",
      "\u001b[33m힌트: \u001b[m\n",
      "\u001b[33m힌트: \tgit submodule add <url> kiinchat\u001b[m\n",
      "\u001b[33m힌트: \u001b[m\n",
      "\u001b[33m힌트: If you added this path by mistake, you can remove it from the\u001b[m\n",
      "\u001b[33m힌트: index with:\u001b[m\n",
      "\u001b[33m힌트: \u001b[m\n",
      "\u001b[33m힌트: \tgit rm --cached kiinchat\u001b[m\n",
      "\u001b[33m힌트: \u001b[m\n",
      "\u001b[33m힌트: See \"git help submodule\" for more information.\u001b[m\n",
      "warning: 내장 깃 저장소 추가: portfolio\n",
      "[master (최상위-커밋) 52e6d6c] upload some tests\n",
      " 60 files changed, 17470 insertions(+)\n",
      " create mode 100644 .DS_Store\n",
      " create mode 100644 alijas.zip\n",
      " create mode 100644 chatbot.zip\n",
      " create mode 100644 dx-api.zip\n",
      " create mode 100644 dxchain.zip\n",
      " create mode 100644 enne.zip\n",
      " create mode 100644 jupy/Jupyter_Notebook.ipynb\n",
      " create mode 160000 kiinchat\n",
      " create mode 100644 kiinchat.zip\n",
      " create mode 100644 manna/.idea/.gitignore\n",
      " create mode 100644 manna/.idea/inspectionProfiles/Project_Default.xml\n",
      " create mode 100644 manna/.idea/inspectionProfiles/profiles_settings.xml\n",
      " create mode 100644 manna/.idea/manna.iml\n",
      " create mode 100644 manna/.idea/misc.xml\n",
      " create mode 100644 manna/.idea/modules.xml\n",
      " create mode 100644 manna/__pycache__/main.cpython-311.pyc\n",
      " create mode 100644 manna/alembic.ini\n",
      " create mode 100644 manna/alembic/README\n",
      " create mode 100644 manna/alembic/__pycache__/env.cpython-311.pyc\n",
      " create mode 100644 manna/alembic/env.py\n",
      " create mode 100644 manna/alembic/script.py.mako\n",
      " create mode 100644 manna/alembic/versions/604e4f5e79d9_create_users_table.py\n",
      " create mode 100644 manna/alembic/versions/__pycache__/604e4f5e79d9_create_users_table.cpython-311.pyc\n",
      " create mode 100644 manna/main.py\n",
      " create mode 100644 manna/requirements.txt\n",
      " create mode 100644 manna/src/db/__pycache__/base.cpython-311.pyc\n",
      " create mode 100644 manna/src/db/__pycache__/crud.cpython-311.pyc\n",
      " create mode 100644 manna/src/db/__pycache__/models.cpython-311.pyc\n",
      " create mode 100644 manna/src/db/__pycache__/schemas.cpython-311.pyc\n",
      " create mode 100644 manna/src/db/base.py\n",
      " create mode 100644 manna/src/db/crud.py\n",
      " create mode 100644 manna/src/db/models.py\n",
      " create mode 100644 manna/src/db/schemas.py\n",
      " create mode 100644 manna/test_main.http\n",
      " create mode 160000 portfolio\n",
      " create mode 100644 puzzle_corporation.zip\n",
      " create mode 100644 simulator-back.zip\n",
      " create mode 100644 simulator-review/trans.ipynb\n",
      " create mode 100644 study/LinearRegression/linearReg.ipynb\n",
      " create mode 100644 study/cnn/cnn.ipynb\n",
      " create mode 100644 study/cnn/data/sample0.jpeg\n",
      " create mode 100644 study/cnn/data/sample1.jpeg\n",
      " create mode 100644 study/cnn/output_data/output_image0.jpeg\n",
      " create mode 100644 study/cnn/output_data/output_image1.jpeg\n",
      " create mode 100644 study/gan.ipynb\n",
      " create mode 100644 study/practice.ipynb\n",
      " create mode 100644 study/rr.R\n",
      " create mode 100644 \"\\352\\260\\200\\354\\203\\201\\355\\231\\230\\352\\262\\275\\354\\236\\204\\354\\213\\234\\354\\240\\200\\354\\236\\245\\354\\206\\214/.DS_Store\"\n",
      " create mode 100644 \"\\352\\260\\200\\354\\203\\201\\355\\231\\230\\352\\262\\275\\354\\236\\204\\354\\213\\234\\354\\240\\200\\354\\236\\245\\354\\206\\214/__pycache__/app.cpython-311.pyc\"\n",
      " create mode 100644 \"\\352\\260\\200\\354\\203\\201\\355\\231\\230\\352\\262\\275\\354\\236\\204\\354\\213\\234\\354\\240\\200\\354\\236\\245\\354\\206\\214/charts/.helmignore\"\n",
      " create mode 100644 \"\\352\\260\\200\\354\\203\\201\\355\\231\\230\\352\\262\\275\\354\\236\\204\\354\\213\\234\\354\\240\\200\\354\\236\\245\\354\\206\\214/charts/Chart.yaml\"\n",
      " create mode 100644 \"\\352\\260\\200\\354\\203\\201\\355\\231\\230\\352\\262\\275\\354\\236\\204\\354\\213\\234\\354\\240\\200\\354\\236\\245\\354\\206\\214/charts/templates/NOTES.txt\"\n",
      " create mode 100644 \"\\352\\260\\200\\354\\203\\201\\355\\231\\230\\352\\262\\275\\354\\236\\204\\354\\213\\234\\354\\240\\200\\354\\236\\245\\354\\206\\214/charts/templates/_helpers.tpl\"\n",
      " create mode 100644 \"\\352\\260\\200\\354\\203\\201\\355\\231\\230\\352\\262\\275\\354\\236\\204\\354\\213\\234\\354\\240\\200\\354\\236\\245\\354\\206\\214/charts/templates/deployment.yaml\"\n",
      " create mode 100644 \"\\352\\260\\200\\354\\203\\201\\355\\231\\230\\352\\262\\275\\354\\236\\204\\354\\213\\234\\354\\240\\200\\354\\236\\245\\354\\206\\214/charts/templates/nginx-conf.yaml\"\n",
      " create mode 100644 \"\\352\\260\\200\\354\\203\\201\\355\\231\\230\\352\\262\\275\\354\\236\\204\\354\\213\\234\\354\\240\\200\\354\\236\\245\\354\\206\\214/charts/templates/secret.yaml\"\n",
      " create mode 100644 \"\\352\\260\\200\\354\\203\\201\\355\\231\\230\\352\\262\\275\\354\\236\\204\\354\\213\\234\\354\\240\\200\\354\\236\\245\\354\\206\\214/charts/templates/service.yaml\"\n",
      " create mode 100644 \"\\352\\260\\200\\354\\203\\201\\355\\231\\230\\352\\262\\275\\354\\236\\204\\354\\213\\234\\354\\240\\200\\354\\236\\245\\354\\206\\214/charts/templates/tests/test-connection.yaml\"\n",
      " create mode 100644 \"\\352\\260\\200\\354\\203\\201\\355\\231\\230\\352\\262\\275\\354\\236\\204\\354\\213\\234\\354\\240\\200\\354\\236\\245\\354\\206\\214/charts/values.yaml\"\n",
      " create mode 100644 \"\\352\\260\\200\\354\\203\\201\\355\\231\\230\\352\\262\\275\\354\\236\\204\\354\\213\\234\\354\\240\\200\\354\\236\\245\\354\\206\\214/secret.json\"\n",
      "Username for 'https://github.com': ^C\n"
     ]
    }
   ],
   "source": [
    "! git add .\n",
    "! git commit -m \"upload some tests\"\n",
    "! git branch -M main\n",
    "! git remote add origin https://github.com/hdimmfh/IBM_REPO.git\n",
    "! git push -u origin main"
   ]
  }
 ],
 "metadata": {
  "kernelspec": {
   "display_name": "Python 3",
   "language": "python",
   "name": "python3"
  },
  "language_info": {
   "codemirror_mode": {
    "name": "ipython",
    "version": 3
   },
   "file_extension": ".py",
   "mimetype": "text/x-python",
   "name": "python",
   "nbconvert_exporter": "python",
   "pygments_lexer": "ipython3",
   "version": "3.8.17"
  }
 },
 "nbformat": 4,
 "nbformat_minor": 4
}
